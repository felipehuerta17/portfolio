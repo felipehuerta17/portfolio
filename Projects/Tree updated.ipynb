{
 "cells": [
  {
   "cell_type": "code",
   "execution_count": 1,
   "metadata": {
    "scrolled": false
   },
   "outputs": [
    {
     "data": {
      "text/html": [
       "<div>\n",
       "<style scoped>\n",
       "    .dataframe tbody tr th:only-of-type {\n",
       "        vertical-align: middle;\n",
       "    }\n",
       "\n",
       "    .dataframe tbody tr th {\n",
       "        vertical-align: top;\n",
       "    }\n",
       "\n",
       "    .dataframe thead th {\n",
       "        text-align: right;\n",
       "    }\n",
       "</style>\n",
       "<table border=\"1\" class=\"dataframe\">\n",
       "  <thead>\n",
       "    <tr style=\"text-align: right;\">\n",
       "      <th></th>\n",
       "      <th>Parent</th>\n",
       "      <th>Subsidiary</th>\n",
       "    </tr>\n",
       "  </thead>\n",
       "  <tbody>\n",
       "    <tr>\n",
       "      <th>0</th>\n",
       "      <td>alphabet</td>\n",
       "      <td>nest</td>\n",
       "    </tr>\n",
       "    <tr>\n",
       "      <th>1</th>\n",
       "      <td>alphabet</td>\n",
       "      <td>access and energy</td>\n",
       "    </tr>\n",
       "    <tr>\n",
       "      <th>2</th>\n",
       "      <td>alphabet</td>\n",
       "      <td>verily</td>\n",
       "    </tr>\n",
       "    <tr>\n",
       "      <th>3</th>\n",
       "      <td>alphabet</td>\n",
       "      <td>calico</td>\n",
       "    </tr>\n",
       "    <tr>\n",
       "      <th>4</th>\n",
       "      <td>alphabet</td>\n",
       "      <td>side walk labs</td>\n",
       "    </tr>\n",
       "  </tbody>\n",
       "</table>\n",
       "</div>"
      ],
      "text/plain": [
       "     Parent         Subsidiary\n",
       "0  alphabet               nest\n",
       "1  alphabet  access and energy\n",
       "2  alphabet             verily\n",
       "3  alphabet             calico\n",
       "4  alphabet     side walk labs"
      ]
     },
     "execution_count": 1,
     "metadata": {},
     "output_type": "execute_result"
    }
   ],
   "source": [
    "import pandas as pd\n",
    "import csv\n",
    "df = pd.read_csv('alphabet.csv')\n",
    "df.head()"
   ]
  },
  {
   "cell_type": "code",
   "execution_count": 2,
   "metadata": {
    "scrolled": true
   },
   "outputs": [
    {
     "name": "stdout",
     "output_type": "stream",
     "text": [
      "Type parent LE name: alphabet\n"
     ]
    },
    {
     "data": {
      "text/plain": [
       "[['alphabet', 'nest'],\n",
       " ['alphabet', 'access and energy'],\n",
       " ['alphabet', 'verily'],\n",
       " ['alphabet', 'calico'],\n",
       " ['alphabet', 'side walk labs'],\n",
       " ['alphabet', 'google'],\n",
       " ['alphabet', 'google X'],\n",
       " ['alphabet', 'gv'],\n",
       " ['alphabet', 'google capital'],\n",
       " ['alphabet', 'self driving car']]"
      ]
     },
     "execution_count": 2,
     "metadata": {},
     "output_type": "execute_result"
    }
   ],
   "source": [
    "parent = input(\"Type parent LE name: \")\n",
    "working_list = []\n",
    "for i,j in df.iterrows():\n",
    "     if df['Parent'][i] == parent:\n",
    "            working_list.append([df['Parent'][i], df['Subsidiary'][i]])\n",
    "            \n",
    "            \n",
    "working_list"
   ]
  },
  {
   "cell_type": "code",
   "execution_count": 3,
   "metadata": {},
   "outputs": [
    {
     "data": {
      "text/plain": [
       "[['alphabet', 'nest'],\n",
       " ['alphabet', 'access and energy'],\n",
       " ['alphabet', 'verily'],\n",
       " ['alphabet', 'calico'],\n",
       " ['alphabet', 'side walk labs'],\n",
       " ['alphabet', 'google'],\n",
       " ['alphabet', 'google X'],\n",
       " ['alphabet', 'gv'],\n",
       " ['alphabet', 'google capital'],\n",
       " ['alphabet', 'self driving car'],\n",
       " ['google', 'search'],\n",
       " ['google', 'infrastructure'],\n",
       " ['google', 'adsense'],\n",
       " ['google', 'maps'],\n",
       " ['google', 'apps for work'],\n",
       " ['google', 'android'],\n",
       " ['google', 'deepmind'],\n",
       " ['google', 'atap'],\n",
       " ['google X', 'replicant'],\n",
       " ['google X', 'project loon'],\n",
       " ['google X', 'project wing'],\n",
       " ['google X', 'project titan'],\n",
       " ['google X', 'youtube'],\n",
       " ['adsense', 'test'],\n",
       " ['test', 'test2']]"
      ]
     },
     "execution_count": 3,
     "metadata": {},
     "output_type": "execute_result"
    }
   ],
   "source": [
    "for i,j in working_list:\n",
    "    for k,l in df.iterrows():\n",
    "        if df['Parent'][k] == j:\n",
    "            working_list.append([j, df['Subsidiary'][k]])\n",
    "\n",
    "working_list     "
   ]
  },
  {
   "cell_type": "code",
   "execution_count": 4,
   "metadata": {},
   "outputs": [],
   "source": [
    "working_df2 = pd.DataFrame(working_list)\n",
    "working_list2 = working_df2.values.tolist()\n",
    "       \n"
   ]
  },
  {
   "cell_type": "code",
   "execution_count": 9,
   "metadata": {
    "scrolled": true
   },
   "outputs": [],
   "source": [
    "for i,j in working_list:\n",
    "    for k,l in working_list:\n",
    "        if k == j:\n",
    "            working_list2[working_list.index([i,j])].append(l)\n"
   ]
  },
  {
   "cell_type": "code",
   "execution_count": 10,
   "metadata": {},
   "outputs": [
    {
     "data": {
      "text/plain": [
       "[['alphabet', 'nest'],\n",
       " ['alphabet', 'access and energy'],\n",
       " ['alphabet', 'verily'],\n",
       " ['alphabet', 'calico'],\n",
       " ['alphabet', 'side walk labs'],\n",
       " ['alphabet',\n",
       "  'google',\n",
       "  'search',\n",
       "  'search',\n",
       "  'infrastructure',\n",
       "  'adsense',\n",
       "  'maps',\n",
       "  'apps for work',\n",
       "  'android',\n",
       "  'deepmind',\n",
       "  'atap'],\n",
       " ['alphabet',\n",
       "  'google X',\n",
       "  'replicant',\n",
       "  'project loon',\n",
       "  'project wing',\n",
       "  'project titan',\n",
       "  'youtube'],\n",
       " ['alphabet', 'gv'],\n",
       " ['alphabet', 'google capital'],\n",
       " ['alphabet', 'self driving car'],\n",
       " ['google', 'search'],\n",
       " ['google', 'infrastructure'],\n",
       " ['google', 'adsense', 'test'],\n",
       " ['google', 'maps'],\n",
       " ['google', 'apps for work'],\n",
       " ['google', 'android'],\n",
       " ['google', 'deepmind'],\n",
       " ['google', 'atap'],\n",
       " ['google X', 'replicant'],\n",
       " ['google X', 'project loon'],\n",
       " ['google X', 'project wing'],\n",
       " ['google X', 'project titan'],\n",
       " ['google X', 'youtube'],\n",
       " ['adsense', 'test', 'test2'],\n",
       " ['test', 'test2']]"
      ]
     },
     "execution_count": 10,
     "metadata": {},
     "output_type": "execute_result"
    }
   ],
   "source": [
    "working_list2"
   ]
  },
  {
   "cell_type": "code",
   "execution_count": null,
   "metadata": {},
   "outputs": [],
   "source": [
    "working_df = pd.DataFrame(working_list, columns = ['Parent', 'Subsidiary']) "
   ]
  },
  {
   "cell_type": "code",
   "execution_count": null,
   "metadata": {
    "scrolled": true
   },
   "outputs": [],
   "source": [
    "working_df.head(15)"
   ]
  },
  {
   "cell_type": "code",
   "execution_count": null,
   "metadata": {},
   "outputs": [],
   "source": [
    "working_df['Subsidiary2'] = []\n",
    "working_df.head()"
   ]
  },
  {
   "cell_type": "code",
   "execution_count": null,
   "metadata": {},
   "outputs": [],
   "source": [
    "for i,j in working_df.iterrows():\n",
    "    for k,l in working_df.iterrows():\n",
    "        if working_df['Subsidiary'][i] == working_df['Parent'][k]:\n",
    "             working_df['Subsidiary2'][k] = working_df['Subsidiary'][k]\n",
    "            \n",
    "working_df.head()\n",
    "    "
   ]
  },
  {
   "cell_type": "code",
   "execution_count": null,
   "metadata": {},
   "outputs": [],
   "source": []
  },
  {
   "cell_type": "code",
   "execution_count": null,
   "metadata": {},
   "outputs": [],
   "source": []
  },
  {
   "cell_type": "code",
   "execution_count": null,
   "metadata": {},
   "outputs": [],
   "source": []
  },
  {
   "cell_type": "code",
   "execution_count": null,
   "metadata": {},
   "outputs": [],
   "source": []
  },
  {
   "cell_type": "code",
   "execution_count": null,
   "metadata": {},
   "outputs": [],
   "source": [
    "full_list = df.values.tolist()\n",
    "full_list"
   ]
  },
  {
   "cell_type": "code",
   "execution_count": null,
   "metadata": {},
   "outputs": [],
   "source": [
    "parent = input(\"Type something to test this out: \")\n",
    "working_list = []\n",
    "for i,j in full_list:\n",
    "    if i == parent:\n",
    "        working_list.append([parent, j])\n",
    "        \n",
    "\n",
    "for i,j in working_list:\n",
    "    for k,l in full_list:\n",
    "        if k == j:\n",
    "            working_list.append([j, l])\n",
    "        \n",
    "working_list"
   ]
  },
  {
   "cell_type": "code",
   "execution_count": null,
   "metadata": {},
   "outputs": [],
   "source": []
  }
 ],
 "metadata": {
  "kernelspec": {
   "display_name": "Python 3",
   "language": "python",
   "name": "python3"
  },
  "language_info": {
   "codemirror_mode": {
    "name": "ipython",
    "version": 3
   },
   "file_extension": ".py",
   "mimetype": "text/x-python",
   "name": "python",
   "nbconvert_exporter": "python",
   "pygments_lexer": "ipython3",
   "version": "3.6.5"
  }
 },
 "nbformat": 4,
 "nbformat_minor": 2
}
