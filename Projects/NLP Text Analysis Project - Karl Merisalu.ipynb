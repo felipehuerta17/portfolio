{
 "cells": [
  {
   "cell_type": "markdown",
   "metadata": {},
   "source": [
    "# NLP Text Analysis Project - Karl Merisalu\n",
    "\n",
    "<b>Problem:</b> There are many benefits to finding out about important events as early as possible (be it natural disasters, political revolutions or announcements by companies), but the problem is that often times we are late in the game and can hence lose out. \n",
    "\n",
    "One of the best places to get early information on events of interest is Twitter. Twitter is hard to follow manually, so in this project we will create a live indicator of Twitter sentiment score, which will help us to determine if there have been any sudden changes be it very positive or negative to our area/keyword of interest. "
   ]
  },
  {
   "cell_type": "markdown",
   "metadata": {},
   "source": [
    "### 1) Setting up the environment\n",
    "We will create a live dashboard based on a loop function and we want the loop function to be efficient (so that it could be quick). In this first step we will set up the environment as much as possible to minimise the tasks to be executed by the loop. \n",
    "\n",
    "We start with importing required libraries:"
   ]
  },
  {
   "cell_type": "code",
   "execution_count": 1,
   "metadata": {
    "scrolled": true
   },
   "outputs": [
    {
     "name": "stdout",
     "output_type": "stream",
     "text": [
      "[nltk_data] Downloading package punkt to\n",
      "[nltk_data]     C:\\Users\\Karl\\AppData\\Roaming\\nltk_data...\n",
      "[nltk_data]   Package punkt is already up-to-date!\n",
      "[nltk_data] Downloading package stopwords to\n",
      "[nltk_data]     C:\\Users\\Karl\\AppData\\Roaming\\nltk_data...\n",
      "[nltk_data]   Package stopwords is already up-to-date!\n",
      "[nltk_data] Downloading package wordnet to\n",
      "[nltk_data]     C:\\Users\\Karl\\AppData\\Roaming\\nltk_data...\n",
      "[nltk_data]   Package wordnet is already up-to-date!\n"
     ]
    },
    {
     "data": {
      "text/plain": [
       "True"
      ]
     },
     "execution_count": 1,
     "metadata": {},
     "output_type": "execute_result"
    }
   ],
   "source": [
    "# For data and matrix manipulation\n",
    "import pandas as pd\n",
    "import numpy as np\n",
    "\n",
    "# For visualisation\n",
    "import seaborn as sns\n",
    "import matplotlib.pyplot as plt\n",
    "import cufflinks as cf\n",
    "%matplotlib inline\n",
    "import pylab as pl\n",
    "from IPython import display\n",
    "import time\n",
    "import datetime\n",
    "\n",
    "# For string manipulation\n",
    "import re \n",
    "\n",
    "# For text pre-processing\n",
    "import nltk\n",
    "from nltk.tokenize import word_tokenize, sent_tokenize\n",
    "from nltk.corpus import stopwords\n",
    "from nltk.stem import PorterStemmer, WordNetLemmatizer\n",
    "\n",
    "# For assigning sentiment polarity scores\n",
    "from textblob import TextBlob\n",
    "\n",
    "# Necessary dependencies from NLTK\n",
    "nltk.download('punkt')\n",
    "nltk.download('stopwords')\n",
    "nltk.download('wordnet')"
   ]
  },
  {
   "cell_type": "markdown",
   "metadata": {},
   "source": [
    "### 2) Defining function to clean text\n",
    "Next we define a function which we will use to clean the messy tweets we're going to pull from Twitter:"
   ]
  },
  {
   "cell_type": "code",
   "execution_count": 2,
   "metadata": {},
   "outputs": [],
   "source": [
    "# defining a function/method for data cleaning\n",
    "def clean_text(sample_text):\n",
    "    \n",
    "    # Given a sample text (as a string), we first substitute a select few sybmols with white space\n",
    "    sample_text = re.sub(r'[#|@|-|?|!]',r' ',sample_text)\n",
    "    \n",
    "    # We then strip extra white space\n",
    "    sample_text = re.sub('\\s+',' ', sample_text)\n",
    "    \n",
    "    # Then change everything to lower case\n",
    "    sample_text = sample_text.lower()\n",
    "    \n",
    "    # Then lemmatize our words -- note,  stemming was deemed too crude here, and therefore not chosen\n",
    "    sample_text = WordNetLemmatizer().lemmatize(sample_text)\n",
    "        \n",
    "    # Now that we transformed our text, we need to tokenize it. Let's treat each word as a token.\n",
    "    words = word_tokenize(sample_text)\n",
    "    \n",
    "    # As we now have a list of words,  we can go ahead and find and remove those words that also belong to the \n",
    "    # stopwords list from the NLTK corpus\n",
    "    words = [w for w in words if w not in stopwords.words('english')]\n",
    "    \n",
    "    # We then proceed to joining those list of words, back to 'free text'  or string format\n",
    "    text = ' '.join(words)\n",
    "    \n",
    "    return text"
   ]
  },
  {
   "cell_type": "markdown",
   "metadata": {},
   "source": [
    "### 3) Using Twitter API\n",
    "Because we want to build a live dashboard, we need access to live data. This can be arranged with an API. We're going to use Twitter's Standard Developer API, which is somewhat restricted (allows to pull 100 tweets at a time, 1h delay in tweets and a restricted number of pull requests allowed per 15min), but is suitable for this purpose to showcase the live chart.\n",
    "\n",
    "In order to use Twitter API we need to register an account on their developer site and get credentials that we use to verify our API get requests. If you're new to this, one good place to start is here: https://stackabuse.com/accessing-the-twitter-api-with-python/\n",
    "\n",
    "As per the instructions above, we have chosen to use Twython python library to use Twitter API. Below we import the library and open Twitter credentials from the json file we created earlier."
   ]
  },
  {
   "cell_type": "code",
   "execution_count": 3,
   "metadata": {},
   "outputs": [],
   "source": [
    "# Import the Twython class\n",
    "from twython import Twython\n",
    "import json\n",
    "\n",
    "# Load credentials from json file - these credentials in twitter_credentials.json were saved previously to hide them from \n",
    "# showing in public \n",
    "with open(\"twitter_credentials.json\", \"r\") as file:\n",
    "    creds = json.load(file)\n",
    "\n",
    "# Instantiate an object\n",
    "python_tweets = Twython(creds['CONSUMER_KEY'], creds['CONSUMER_SECRET'])"
   ]
  },
  {
   "cell_type": "markdown",
   "metadata": {},
   "source": [
    "<b>Next,  we need to define what keywords ('q')</b> we're looking to monitor in Twitter. In this case we will look to pull tweets referencing: 'bitcoin'. Unfortunately, Twitter allows us to pull only 100 tweets at the time, so we will go for the maximum of 100. We will request the most recent 100 tweets referencing 'bitcoin'."
   ]
  },
  {
   "cell_type": "code",
   "execution_count": 4,
   "metadata": {},
   "outputs": [],
   "source": [
    "# Create our query\n",
    "query = {'q': 'bitcoin', # insert search term here\n",
    "        'count': 100, # pulling the maximum of 100 tweet\n",
    "        'result_type': 'recent', # pulling most recent tweets (also possible to pull by popularity, etc.)\n",
    "        'lang': 'en', # pulling tweets in english language\n",
    "        }\n",
    "\n",
    "# Creating an empty dataframe where we will be saving (appending) results that will be dispalyed on the live chart\n",
    "dfrolling = pd.DataFrame() "
   ]
  },
  {
   "cell_type": "markdown",
   "metadata": {},
   "source": [
    "### 4) Building the live chart\n",
    "<b>1)</b> First we use Twython API method to pull tweets as already explained above (and here: https://stackabuse.com/accessing-the-twitter-api-with-python/) \n",
    "\n",
    "<b>2)</b> In order to make it \"live\" to continuously update the status with most recent sentiment, I will build a loop around the API request. \n",
    "\n",
    "<b>3)</b> Inside the loop, once I have tweets: I clean the text, then process for sentiment value and finally plot on a chart\n",
    "\n",
    "Because (almost) everything below will be in a loop and needs to work continuously, it will all need to be in one jupyter notebook cell. Hence, further explanations are provided in the code"
   ]
  },
  {
   "cell_type": "code",
   "execution_count": 5,
   "metadata": {},
   "outputs": [
    {
     "data": {
      "image/png": "[encoded data removed]",
      "text/plain": [
       "<Figure size 432x288 with 1 Axes>"
      ]
     },
     "metadata": {},
     "output_type": "display_data"
    },
    {
     "data": {
      "text/plain": [
       "<Figure size 432x288 with 0 Axes>"
      ]
     },
     "metadata": {},
     "output_type": "display_data"
    }
   ],
   "source": [
    "# 1st search for tweets (as per Twython guidelines)\n",
    "dict_ = {'user': [], 'date': [], 'text': [], 'favorite_count': []}\n",
    "for status in python_tweets.search(**query)['statuses']:\n",
    "    dict_['user'].append(status['user']['screen_name'])\n",
    "    dict_['date'].append(status['created_at'])\n",
    "    dict_['text'].append(status['text'])\n",
    "    dict_['favorite_count'].append(status['favorite_count'])\n",
    "\n",
    "# Structuring data in a pandas DataFrame for easier manipulation - the purpose of this is to create a dataframe \n",
    "# that I can start \"appending\" with the loop below.\n",
    "df = pd.DataFrame(dict_)\n",
    "\n",
    "# Start of the loop: insert range value to how many times we want to run the loop (240)\n",
    "for i in range(240): \n",
    "    dict_ = {'user': [], 'date': [], 'text': [], 'favorite_count': []}\n",
    "    for status in python_tweets.search(**query)['statuses']:\n",
    "        dict_['user'].append(status['user']['screen_name'])\n",
    "        dict_['date'].append(status['created_at'])\n",
    "        dict_['text'].append(status['text'])\n",
    "        dict_['favorite_count'].append(status['favorite_count'])\n",
    "\n",
    "    # Structuring data in a pandas DataFrame for easier manipulation as above (now just in the loop). Saving newly \n",
    "    # pulled tweets into 'df2'\n",
    "    df2 = pd.DataFrame(dict_) \n",
    "    \n",
    "    # Adding df2 results to the dataframe 'df' which we created before the loop note that 'df2' will be overwritten \n",
    "    # with new tweets with every loop, but 'df' will contain all tweets/ act as a database\n",
    "    df = pd.concat([df,df2], ignore_index=True) \n",
    "    df.sort_values(by='text', inplace=True, ascending=False)\n",
    "    \n",
    "    # The algorithm will pull 100 most recent tweets, but if we don't have 100 new tweets in every cycle then \n",
    "    # duplicates will occur to fill the void, so will need to remove duplicates\n",
    "    df.drop_duplicates(subset = 'text', inplace = True)  \n",
    "    \n",
    "    # In order not to modify the master database 'df' we add only necessary information (time and tweet text columns) \n",
    "    # from 'df' into a new dataframe 'tweets'\n",
    "    tweets = df[['text','date']] \n",
    "    \n",
    "    # Formatting tweets 'date' column into datetime and setting 'date' column as index for time series chart later on\n",
    "    # '%a %b %d %H:%M:%S +0000 %Y' <-- encoding Twitter time into Python datetime understandable date format\n",
    "    tweets['date'] = pd.to_datetime(tweets['date'], format = '%a %b %d %H:%M:%S +0000 %Y') \n",
    "    tweets.set_index('date', inplace = True)\n",
    "    \n",
    "    # Sorting tweets by time\n",
    "    tweets = tweets.sort_index(ascending=0)\n",
    "    \n",
    "    # Speficication: I want to display on the chart: most recent 5min moving average sentiment value of tweets with \n",
    "    # our keyword. I also want the status to refresh every 15 seconds\n",
    "    \n",
    "    # Since standard developer (free) twitter API access has a 60min delay built in, we won't be able to get real live tweets. \n",
    "    # We will therefore specify that we want to analyse only tweets from now until 65min in the past (1h delay + 5min). If\n",
    "    # you have access to real live tweets, change it to 5min instead of 1h + 5min\n",
    "    movavg = tweets[datetime.datetime.now():(datetime.datetime.now() - datetime.timedelta(minutes=65))] \n",
    "    \n",
    "    # We will apply the text cleaning function that we defined above to the most recent 5min of tweets\n",
    "    movavg = movavg['text'].apply(lambda x: clean_text(x))\n",
    "    \n",
    "    # Creating a new array where we save sentiment values. it's also important to create this/clear it with\n",
    "    # every loop because we only want the latest data, and not to add new data to old data.\n",
    "    sentiments = []\n",
    "    \n",
    "    # I use TextBlob (which includes a dictionary with polarity scores for each word among other things) to get\n",
    "    # sentiment values for each (cleaned) tweet\n",
    "    for tweet in movavg:\n",
    "        analysis = TextBlob(tweet)\n",
    "        sentiments.append(analysis.sentiment.polarity)\n",
    "\n",
    "    # Converting movavg from time series to a dataframe\n",
    "    movavg = pd.DataFrame(movavg)\n",
    "    \n",
    "    # Adding sentiment values to moving average tweets (movavg)\n",
    "    movavg['sentiments'] = sentiments\n",
    "    \n",
    "    # Creating a new dataframe where we add current time and the mean of latest tweet sentiments. This one will be \n",
    "    # displayed on the chart and we want it to update (append) with new data while also maintaining old data \n",
    "    dfrolling = dfrolling.append({'Time': datetime.datetime.now(), 'movavg': movavg[\"sentiments\"].mean()}, ignore_index=True)\n",
    "    \n",
    "    # Plotting the live chart: I choose the chart to show the most recent 60 minutes of sentiment values. Since I decided to \n",
    "    # refresh at 15sec and we run the loop for 240 times, we should be just about to be able to fill the full chart in 1h\n",
    "    axes = plt.gca()\n",
    "    axes.set_xlim([(datetime.datetime.now() - datetime.timedelta(minutes=60)),datetime.datetime.now()])\n",
    "    \n",
    "    # Setting the sentiment limits (y-axis) between -0.4 and 0.4 to be able to see changes better\n",
    "    axes.set_ylim([-0.4,0.4])\n",
    "    \n",
    "    # Feeding data for plotting and naming x and y labels\n",
    "    pl.plot(dfrolling['Time'], dfrolling['movavg'])\n",
    "    pl.xlabel('Time')\n",
    "    pl.ylabel('5 min moving avg sentiment value')\n",
    "   \n",
    "    # clearing the old output so that we see only newest data and only 1 chart.\n",
    "    display.clear_output(wait=True)\n",
    "    display.display(pl.gcf())\n",
    "    pl.gcf().clear()\n",
    "    \n",
    "    # Insert here value in seconds (15), how often we want the algorithm pull new data. Useful to give some time to allow \n",
    "    # for new tweets to be generated\n",
    "    time.sleep(15) \n",
    "    \n",
    "    # End of the loop\n",
    "\n",
    "# Once the loop has run its predefined number of times, we finally save the full database 'df' on a disk\n",
    "df.to_csv('movavg.csv', encoding='utf-8', index=False)"
   ]
  },
  {
   "cell_type": "markdown",
   "metadata": {},
   "source": [
    "### 5) Conclusion\n",
    "Based on the chart above, we can tell that tweets containing keyword: 'bitcoin' have been more positive than negative during the past hour. There are no big swings in the mean sentiment analysis, however, it would be interesting to put it into perspective over a longer time period. Generally speaking the number of tweets on Sunday or weekend is lower than during the working week. See the dips in the chart of number of bitcoin tweets here: https://bitinfocharts.com/comparison/bitcoin-tweets.html#3m \n",
    "\n",
    "Due to Twitter restrictions, unfortunately I could only live plot tweets with 1h delay, however, should you have access real live Twitter feed, then this tool could be used for various situations for indicating changes in sentiment - for example helping to spot new wildfires in Amazon as of today.\n",
    "\n",
    "<b>Further research/improvements:</b>\n",
    "<br><b>1) Accuarcy:</b> These results are based on TextBlob pre-defined dictionary, which doesn't take into account more complicated sentences/meanings and as such should be taken with some suspicion. To develop the algorithm further it may be interesting to go into deep learning field as outlined here: https://blog.insightdatascience.com/how-to-solve-90-of-nlp-problems-a-step-by-step-guide-fda605278e4e. \n",
    "\n",
    "<b>2) Specifications:</b> Based on the number of tweets and the need of timely information, I would recommend to play around with refreshing frequency (sleep value) and with moving average specifications. For identifying macro trends a larger moving average values (and slower refresh rate) could be useful, for micro trends smaller moving average values and faster refresh values could be handy\n",
    "\n",
    "<b>3) Further development:</b> 1) it would be interesting for example if the application sent an email alert if the sentiment value breached some designated value, 2) an additional idea for further development would be to make user experience simpler, by having the application ask user input for keyword and then run the chart, 3) we could have several moving averages (5sec, 5min, 1h for example) plotted on 1 live chart, which would help puting sentiment values into perspective."
   ]
  },
  {
   "cell_type": "code",
   "execution_count": null,
   "metadata": {},
   "outputs": [],
   "source": []
  }
 ],
 "metadata": {
  "kernelspec": {
   "display_name": "Python 3",
   "language": "python",
   "name": "python3"
  },
  "language_info": {
   "codemirror_mode": {
    "name": "ipython",
    "version": 3
   },
   "file_extension": ".py",
   "mimetype": "text/x-python",
   "name": "python",
   "nbconvert_exporter": "python",
   "pygments_lexer": "ipython3",
   "version": "3.6.5"
  }
 },
 "nbformat": 4,
 "nbformat_minor": 2
}
