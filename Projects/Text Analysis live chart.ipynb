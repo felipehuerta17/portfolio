{
 "cells": [
  {
   "cell_type": "markdown",
   "metadata": {},
   "source": [
    "# Text Analysis - Karl Merisalu\n",
    "CLEAN (and efficient!) VERSION"
   ]
  },
  {
   "cell_type": "markdown",
   "metadata": {},
   "source": [
    "### 1) To be run once to set up the environment"
   ]
  },
  {
   "cell_type": "code",
   "execution_count": 42,
   "metadata": {},
   "outputs": [
    {
     "name": "stdout",
     "output_type": "stream",
     "text": [
      "[nltk_data] Downloading package punkt to\n",
      "[nltk_data]     C:\\Users\\Karl\\AppData\\Roaming\\nltk_data...\n",
      "[nltk_data]   Package punkt is already up-to-date!\n",
      "[nltk_data] Downloading package stopwords to\n",
      "[nltk_data]     C:\\Users\\Karl\\AppData\\Roaming\\nltk_data...\n",
      "[nltk_data]   Package stopwords is already up-to-date!\n",
      "[nltk_data] Downloading package wordnet to\n",
      "[nltk_data]     C:\\Users\\Karl\\AppData\\Roaming\\nltk_data...\n",
      "[nltk_data]   Package wordnet is already up-to-date!\n"
     ]
    }
   ],
   "source": [
    "# For data and matrix manipulation\n",
    "import pandas as pd\n",
    "import numpy as np\n",
    "\n",
    "# For visualisation\n",
    "import seaborn as sns\n",
    "import matplotlib.pyplot as plt\n",
    "from wordcloud import WordCloud\n",
    "import cufflinks as cf\n",
    "import plotly.graph_objs as go\n",
    "from plotly.plotly import iplot\n",
    "%matplotlib inline\n",
    "import time\n",
    "import pylab as pl\n",
    "from IPython import display\n",
    "\n",
    "# For string manipulation\n",
    "import re \n",
    "import string\n",
    "\n",
    "# For text pre-processing\n",
    "import nltk\n",
    "from nltk.tokenize import word_tokenize, sent_tokenize\n",
    "from nltk.corpus import stopwords\n",
    "from nltk.stem import PorterStemmer, WordNetLemmatizer\n",
    "\n",
    "# For assigning sentiment polarity scores\n",
    "from textblob import TextBlob\n",
    "\n",
    "# For extracting features -- i.e. the document-term matrix\n",
    "from sklearn.feature_extraction.text import CountVectorizer\n",
    "\n",
    "# For splitting the data into a training and a testing set\n",
    "from sklearn.model_selection import train_test_split\n",
    "\n",
    "# For using Naive Bayes - the typical basic machine learning algorithm of choice for Text analytics\n",
    "from sklearn.naive_bayes import MultinomialNB\n",
    "\n",
    "# For evaluating our machine learning model \n",
    "from sklearn.metrics import accuracy_score, classification_report\n",
    "\n",
    "\n",
    "# Necessary dependencies from NLTK\n",
    "nltk.download('punkt')\n",
    "nltk.download('stopwords')\n",
    "nltk.download('wordnet')\n",
    "\n",
    "import time\n",
    "import datetime\n",
    "dfrolling = pd.DataFrame()\n",
    "\n",
    "vector = CountVectorizer(max_features= 10000 , min_df=0.01, ngram_range= (1,1))"
   ]
  },
  {
   "cell_type": "code",
   "execution_count": 43,
   "metadata": {},
   "outputs": [],
   "source": [
    "# defining method for data cleaning\n",
    "\n",
    "def clean_text(sample_text):\n",
    "    \n",
    "    # Given a sample text (as a string), we first substitute a select few sybmols with white space\n",
    "    sample_text = re.sub(r'[#|@|-|?|!]',r' ',sample_text)\n",
    "    \n",
    "    # We then strip extra white space\n",
    "    sample_text = re.sub('\\s+',' ', sample_text)\n",
    "    \n",
    "    # Then change everything to lower case\n",
    "    sample_text = sample_text.lower()\n",
    "    \n",
    "    # Then lemmatize our words -- note,  stemming was deemed too crude here, and therefore not chosen\n",
    "    sample_text = WordNetLemmatizer().lemmatize(sample_text)\n",
    "    \n",
    "    \n",
    "    # Now that we transformed our text, we need to tokenize it. Let's treat each word as a token.\n",
    "    words = word_tokenize(sample_text)\n",
    "    \n",
    "    # As we now have a list of words,  we can go ahead and find and remove those words that also belong to the \n",
    "    # stopwords list from the NLTK corpus\n",
    "    words = [w for w in words if w not in stopwords.words('english')]\n",
    "    \n",
    "    # We then proceed to joining those list of words, back to 'free text'  or string format\n",
    "    text = ' '.join(words)\n",
    "    \n",
    "    return text"
   ]
  },
  {
   "cell_type": "code",
   "execution_count": 44,
   "metadata": {},
   "outputs": [],
   "source": [
    "# Import the Twython class\n",
    "from twython import Twython\n",
    "import json\n",
    "\n",
    "# Load credentials from json file\n",
    "with open(\"twitter_credentials.json\", \"r\") as file:\n",
    "    creds = json.load(file)\n",
    "\n",
    "# Instantiate an object\n",
    "python_tweets = Twython(creds['CONSUMER_KEY'], creds['CONSUMER_SECRET'])"
   ]
  },
  {
   "cell_type": "code",
   "execution_count": 45,
   "metadata": {},
   "outputs": [],
   "source": [
    "# Create our query\n",
    "query = {'q': '@BorisJohnson', # What is the search term?\n",
    "        'count': 100,\n",
    "        'result_type': 'recent',\n",
    "        'lang': 'en',\n",
    "        }\n",
    "\n"
   ]
  },
  {
   "cell_type": "markdown",
   "metadata": {},
   "source": [
    "### 2) Action starts here"
   ]
  },
  {
   "cell_type": "code",
   "execution_count": 46,
   "metadata": {},
   "outputs": [
    {
     "data": {
      "image/png": "[encoded data removed]",
      "text/plain": [
       "<Figure size 432x288 with 1 Axes>"
      ]
     },
     "metadata": {},
     "output_type": "display_data"
    },
    {
     "data": {
      "text/plain": [
       "<Figure size 432x288 with 0 Axes>"
      ]
     },
     "metadata": {},
     "output_type": "display_data"
    }
   ],
   "source": [
    "# Search tweets\n",
    "dict_ = {'user': [], 'date': [], 'text': [], 'favorite_count': []}\n",
    "for status in python_tweets.search(**query)['statuses']:\n",
    "    dict_['user'].append(status['user']['screen_name'])\n",
    "    dict_['date'].append(status['created_at'])\n",
    "    dict_['text'].append(status['text'])\n",
    "    dict_['favorite_count'].append(status['favorite_count'])\n",
    "\n",
    "# Structure data in a pandas DataFrame for easier manipulation\n",
    "df = pd.DataFrame(dict_)\n",
    "\n",
    "# Running the same algorithm for another 10x in order to get a better sample\n",
    "# Bsed on experience, 15 iterations with 60sec sleep gets ~1k unique tweets\n",
    "\n",
    "for i in range(210):\n",
    "    dict_ = {'user': [], 'date': [], 'text': [], 'favorite_count': []}\n",
    "    for status in python_tweets.search(**query)['statuses']:\n",
    "        dict_['user'].append(status['user']['screen_name'])\n",
    "        dict_['date'].append(status['created_at'])\n",
    "        dict_['text'].append(status['text'])\n",
    "        dict_['favorite_count'].append(status['favorite_count'])\n",
    "\n",
    "    # Structure data in a pandas DataFrame for easier manipulation\n",
    "    df2 = pd.DataFrame(dict_)\n",
    "    df = pd.concat([df,df2], ignore_index=True) # adding newly pulled results to the existing dataset\n",
    "    df.sort_values(by='text', inplace=True, ascending=False)\n",
    "    df.drop_duplicates(subset = 'text', inplace = True) # removing duplicates\n",
    "       \n",
    "    tweets = df[['text','date']]\n",
    "    tweets['date'] = pd.to_datetime(tweets['date'], format = '%a %b %d %H:%M:%S +0000 %Y')\n",
    "    tweets.set_index('date', inplace = True)\n",
    "    tweets = tweets.sort_index(ascending=0)\n",
    "    avg15min = tweets[datetime.datetime.now():(datetime.datetime.now() - datetime.timedelta(minutes=75))] #because Twitter\n",
    "    # only gives data with 1h delay for standard developer...\n",
    "    \n",
    "    # We can quickly apply the above function by using the 'apply' and 'lambda' functions as so\n",
    "    avg15min = avg15min['text'].apply(lambda x: clean_text(x))\n",
    "    \n",
    "    # We use the fit_transform() function to apply the above to our tweets\n",
    "    bag_of_words = vector.fit_transform(avg15min)\n",
    "    \n",
    "    sentiments = []\n",
    "    \n",
    "    for tweet in avg15min:\n",
    "        analysis = TextBlob(tweet)\n",
    "        sentiments.append(analysis.sentiment.polarity)\n",
    "\n",
    "    # We add that list to a new dataframe of our tweets\n",
    "    avg15min = pd.DataFrame(avg15min)\n",
    "\n",
    "    avg15min['sentiments'] = sentiments\n",
    "    \n",
    "    dfrolling = dfrolling.append({'Time': datetime.datetime.now(), 'avg15min': avg15min[\"sentiments\"].mean()}, ignore_index=True)\n",
    "    \n",
    "    \n",
    "    axes = plt.gca()\n",
    "    axes.set_xlim([(datetime.datetime.now() - datetime.timedelta(minutes=200)),datetime.datetime.now()])\n",
    "    axes.set_ylim([-0.4,0.4])\n",
    "    \n",
    "    pl.plot(dfrolling['Time'], dfrolling['avg15min'], label= \"Average 15min sentiment\")\n",
    "    pl.xlabel('Time')\n",
    "    pl.ylabel('Last 10min avg sentiment')\n",
    "        \n",
    "    display.clear_output(wait=True)\n",
    "    display.display(pl.gcf())\n",
    "    pl.gcf().clear()\n",
    "    \n",
    "    time.sleep(60) # waiting for 3 sec before another pull request\n",
    "    \n",
    "df.to_csv('BorisJohnsonOvernight.csv', encoding='utf-8', index=False) # using this to save dataset to disk in the end"
   ]
  },
  {
   "cell_type": "code",
   "execution_count": null,
   "metadata": {},
   "outputs": [],
   "source": []
  }
 ],
 "metadata": {
  "kernelspec": {
   "display_name": "Python 3",
   "language": "python",
   "name": "python3"
  },
  "language_info": {
   "codemirror_mode": {
    "name": "ipython",
    "version": 3
   },
   "file_extension": ".py",
   "mimetype": "text/x-python",
   "name": "python",
   "nbconvert_exporter": "python",
   "pygments_lexer": "ipython3",
   "version": "3.6.5"
  }
 },
 "nbformat": 4,
 "nbformat_minor": 2
}
