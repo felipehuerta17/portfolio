{
 "cells": [
  {
   "cell_type": "markdown",
   "metadata": {},
   "source": [
    "# Spark churn - Karl Merisalu"
   ]
  },
  {
   "cell_type": "markdown",
   "metadata": {},
   "source": [
    "### Libraries"
   ]
  },
  {
   "cell_type": "code",
   "execution_count": 2,
   "metadata": {},
   "outputs": [],
   "source": [
    "import pandas as pd\n",
    "import numpy as np\n",
    "\n",
    "# python library (API) for Spark\n",
    "import pyspark"
   ]
  },
  {
   "cell_type": "markdown",
   "metadata": {},
   "source": [
    "### Initiate Spark session"
   ]
  },
  {
   "cell_type": "code",
   "execution_count": 3,
   "metadata": {},
   "outputs": [],
   "source": [
    "# make a connection with a cluster\n",
    "spark = pyspark.sql.SparkSession.builder.master('local[*]').appName('churn').getOrCreate() # how many cores are we using - * means all cores"
   ]
  },
  {
   "cell_type": "code",
   "execution_count": 4,
   "metadata": {},
   "outputs": [
    {
     "data": {
      "text/html": [
       "\n",
       "            <div>\n",
       "                <p><b>SparkSession - in-memory</b></p>\n",
       "                \n",
       "        <div>\n",
       "            <p><b>SparkContext</b></p>\n",
       "\n",
       "            <p><a href=\"http://10.13.81.28:4040\">Spark UI</a></p>\n",
       "\n",
       "            <dl>\n",
       "              <dt>Version</dt>\n",
       "                <dd><code>v2.4.3</code></dd>\n",
       "              <dt>Master</dt>\n",
       "                <dd><code>local[*]</code></dd>\n",
       "              <dt>AppName</dt>\n",
       "                <dd><code>churn</code></dd>\n",
       "            </dl>\n",
       "        </div>\n",
       "        \n",
       "            </div>\n",
       "        "
      ],
      "text/plain": [
       "<pyspark.sql.session.SparkSession at 0x1f861317b00>"
      ]
     },
     "execution_count": 4,
     "metadata": {},
     "output_type": "execute_result"
    }
   ],
   "source": [
    "spark"
   ]
  },
  {
   "cell_type": "markdown",
   "metadata": {},
   "source": [
    "UP: Running in memory, which is faster than hadoop which runs on disk."
   ]
  },
  {
   "cell_type": "code",
   "execution_count": null,
   "metadata": {},
   "outputs": [],
   "source": [
    "# RDD - core building blocks below\n",
    "\n",
    "# resilient - immutable once chunks are created\n",
    "# distributed - partitioned\n",
    "# dataset - holds data"
   ]
  },
  {
   "cell_type": "code",
   "execution_count": 5,
   "metadata": {},
   "outputs": [
    {
     "data": {
      "text/html": [
       "\n",
       "        <div>\n",
       "            <p><b>SparkContext</b></p>\n",
       "\n",
       "            <p><a href=\"http://10.13.81.28:4040\">Spark UI</a></p>\n",
       "\n",
       "            <dl>\n",
       "              <dt>Version</dt>\n",
       "                <dd><code>v2.4.3</code></dd>\n",
       "              <dt>Master</dt>\n",
       "                <dd><code>local[*]</code></dd>\n",
       "              <dt>AppName</dt>\n",
       "                <dd><code>churn</code></dd>\n",
       "            </dl>\n",
       "        </div>\n",
       "        "
      ],
      "text/plain": [
       "<SparkContext master=local[*] appName=churn>"
      ]
     },
     "execution_count": 5,
     "metadata": {},
     "output_type": "execute_result"
    }
   ],
   "source": [
    "# checking out building blocks\n",
    "\n",
    "sc = spark.sparkContext\n",
    "\n",
    "sc"
   ]
  },
  {
   "cell_type": "markdown",
   "metadata": {},
   "source": [
    "UP: Same as  before  ut no session"
   ]
  },
  {
   "cell_type": "code",
   "execution_count": 6,
   "metadata": {},
   "outputs": [
    {
     "data": {
      "text/plain": [
       "agency_churn.csv MapPartitionsRDD[1] at textFile at <unknown>:0"
      ]
     },
     "execution_count": 6,
     "metadata": {},
     "output_type": "execute_result"
    }
   ],
   "source": [
    "rdd = sc.textFile('agency_churn.csv')\n",
    "\n",
    "rdd"
   ]
  },
  {
   "cell_type": "code",
   "execution_count": 8,
   "metadata": {},
   "outputs": [
    {
     "data": {
      "text/plain": [
       "pyspark.rdd.RDD"
      ]
     },
     "execution_count": 8,
     "metadata": {},
     "output_type": "execute_result"
    }
   ],
   "source": [
    "type(rdd)"
   ]
  },
  {
   "cell_type": "code",
   "execution_count": 9,
   "metadata": {},
   "outputs": [
    {
     "data": {
      "text/plain": [
       "['Names,Age,Total_Purchase,Account_Manager,Years,Onboard_date,Location,Company,Churn',\n",
       " 'Cameron Williams,42,11066.8,0,7.22,2013-08-30 7:00:40,\"10265 Elizabeth Mission Barkerburgh, AK 89518\",Harvey LLC,1']"
      ]
     },
     "execution_count": 9,
     "metadata": {},
     "output_type": "execute_result"
    }
   ],
   "source": [
    "rdd.take(2)"
   ]
  },
  {
   "cell_type": "code",
   "execution_count": 21,
   "metadata": {},
   "outputs": [],
   "source": [
    "# dataframe - same as RDD in terms of properties but has column structure or a schema\n",
    "df = spark.read.csv('agency_churn.csv', header = True, inferSchema = True)"
   ]
  },
  {
   "cell_type": "code",
   "execution_count": 22,
   "metadata": {},
   "outputs": [
    {
     "data": {
      "text/plain": [
       "DataFrame[Names: string, Age: int, Total_Purchase: double, Account_Manager: int, Years: double, Onboard_date: timestamp, Location: string, Company: string, Churn: int]"
      ]
     },
     "execution_count": 22,
     "metadata": {},
     "output_type": "execute_result"
    }
   ],
   "source": [
    "df"
   ]
  },
  {
   "cell_type": "code",
   "execution_count": 23,
   "metadata": {},
   "outputs": [
    {
     "data": {
      "text/plain": [
       "['Names',\n",
       " 'Age',\n",
       " 'Total_Purchase',\n",
       " 'Account_Manager',\n",
       " 'Years',\n",
       " 'Onboard_date',\n",
       " 'Location',\n",
       " 'Company',\n",
       " 'Churn']"
      ]
     },
     "execution_count": 23,
     "metadata": {},
     "output_type": "execute_result"
    }
   ],
   "source": [
    "df.columns"
   ]
  },
  {
   "cell_type": "code",
   "execution_count": 24,
   "metadata": {},
   "outputs": [
    {
     "name": "stdout",
     "output_type": "stream",
     "text": [
      "+----------------+---+--------------+---------------+-----+-------------------+--------------------+--------------------+-----+\n",
      "|           Names|Age|Total_Purchase|Account_Manager|Years|       Onboard_date|            Location|             Company|Churn|\n",
      "+----------------+---+--------------+---------------+-----+-------------------+--------------------+--------------------+-----+\n",
      "|Cameron Williams| 42|       11066.8|              0| 7.22|2013-08-30 07:00:40|10265 Elizabeth M...|          Harvey LLC|    1|\n",
      "|   Kevin Mueller| 41|      11916.22|              0|  6.5|2013-08-13 00:38:46|6157 Frank Garden...|          Wilson PLC|    1|\n",
      "|     Eric Lozano| 38|      12884.75|              0| 6.67|2016-06-29 06:20:07|1331 Keith Court ...|Miller, Johnson a...|    1|\n",
      "+----------------+---+--------------+---------------+-----+-------------------+--------------------+--------------------+-----+\n",
      "only showing top 3 rows\n",
      "\n"
     ]
    }
   ],
   "source": [
    "df.show(3)"
   ]
  },
  {
   "cell_type": "code",
   "execution_count": 25,
   "metadata": {},
   "outputs": [
    {
     "name": "stdout",
     "output_type": "stream",
     "text": [
      "root\n",
      " |-- Names: string (nullable = true)\n",
      " |-- Age: integer (nullable = true)\n",
      " |-- Total_Purchase: double (nullable = true)\n",
      " |-- Account_Manager: integer (nullable = true)\n",
      " |-- Years: double (nullable = true)\n",
      " |-- Onboard_date: timestamp (nullable = true)\n",
      " |-- Location: string (nullable = true)\n",
      " |-- Company: string (nullable = true)\n",
      " |-- Churn: integer (nullable = true)\n",
      "\n"
     ]
    }
   ],
   "source": [
    "df.printSchema() # "
   ]
  },
  {
   "cell_type": "code",
   "execution_count": 27,
   "metadata": {},
   "outputs": [
    {
     "data": {
      "text/plain": [
       "[('Names', 'string'),\n",
       " ('Age', 'int'),\n",
       " ('Total_Purchase', 'double'),\n",
       " ('Account_Manager', 'int'),\n",
       " ('Years', 'double'),\n",
       " ('Onboard_date', 'timestamp'),\n",
       " ('Location', 'string'),\n",
       " ('Company', 'string'),\n",
       " ('Churn', 'int')]"
      ]
     },
     "execution_count": 27,
     "metadata": {},
     "output_type": "execute_result"
    }
   ],
   "source": [
    "df.dtypes"
   ]
  },
  {
   "cell_type": "markdown",
   "metadata": {},
   "source": [
    "### Find unique values"
   ]
  },
  {
   "cell_type": "code",
   "execution_count": 29,
   "metadata": {},
   "outputs": [
    {
     "name": "stdout",
     "output_type": "stream",
     "text": [
      "+----+--------------+\n",
      "| Age|Total_Purchase|\n",
      "+----+--------------+\n",
      "|  42|       11066.8|\n",
      "|  41|      11916.22|\n",
      "|  38|      12884.75|\n",
      "|  42|       8010.76|\n",
      "|  37|       9191.58|\n",
      "|  48|      10356.02|\n",
      "|null|      11331.58|\n",
      "|  32|       9885.12|\n",
      "|  43|       14062.6|\n",
      "|  40|       8066.94|\n",
      "|  30|      11575.37|\n",
      "|  45|       8771.02|\n",
      "|  45|       8988.67|\n",
      "|  40|       8283.32|\n",
      "|  41|       6569.87|\n",
      "|  38|      10494.82|\n",
      "|null|       8213.41|\n",
      "|  43|      11226.88|\n",
      "|  53|       5515.09|\n",
      "|  46|        8046.4|\n",
      "+----+--------------+\n",
      "only showing top 20 rows\n",
      "\n"
     ]
    }
   ],
   "source": [
    "# select a column\n",
    "df.select('Age', 'Total_Purchase').show()"
   ]
  },
  {
   "cell_type": "code",
   "execution_count": 31,
   "metadata": {},
   "outputs": [
    {
     "name": "stdout",
     "output_type": "stream",
     "text": [
      "+----+\n",
      "| Age|\n",
      "+----+\n",
      "|  31|\n",
      "|  65|\n",
      "|  53|\n",
      "|  34|\n",
      "|  28|\n",
      "|  26|\n",
      "|  27|\n",
      "|  44|\n",
      "|  22|\n",
      "|  47|\n",
      "|null|\n",
      "|  52|\n",
      "|  40|\n",
      "|  54|\n",
      "|  48|\n",
      "|  41|\n",
      "|  43|\n",
      "|  37|\n",
      "|  35|\n",
      "|  55|\n",
      "+----+\n",
      "only showing top 20 rows\n",
      "\n"
     ]
    }
   ],
   "source": [
    "# show me the unique values that Age can take\n",
    "df.select('Age').distinct().show()"
   ]
  },
  {
   "cell_type": "code",
   "execution_count": 32,
   "metadata": {},
   "outputs": [
    {
     "data": {
      "text/plain": [
       "37"
      ]
     },
     "execution_count": 32,
     "metadata": {},
     "output_type": "execute_result"
    }
   ],
   "source": [
    "#number of unique - nunique()\n",
    "df.select('Age').distinct().count()"
   ]
  },
  {
   "cell_type": "markdown",
   "metadata": {},
   "source": [
    "### describe - summary stats"
   ]
  },
  {
   "cell_type": "code",
   "execution_count": 33,
   "metadata": {},
   "outputs": [
    {
     "name": "stdout",
     "output_type": "stream",
     "text": [
      "+-------+-------------+-----------------+------------------+-------------------+-----------------+--------------------+--------------------+-------------------+\n",
      "|summary|        Names|              Age|    Total_Purchase|    Account_Manager|            Years|            Location|             Company|              Churn|\n",
      "+-------+-------------+-----------------+------------------+-------------------+-----------------+--------------------+--------------------+-------------------+\n",
      "|  count|          900|              898|               899|                898|              900|                 900|                 899|                900|\n",
      "|   mean|         null|41.81069042316258|10064.888242491663| 0.4799554565701559| 5.27315555555555|                null|                null|0.16666666666666666|\n",
      "| stddev|         null| 6.13303075073418| 2409.188637458988|0.49987645989755647|1.274449013194616|                null|                null| 0.3728852122772358|\n",
      "|    min|   Aaron King|               22|             100.0|                  0|              1.0|00103 Jeffrey Cre...|     Abbott-Thompson|                  0|\n",
      "|    max|Zachary Walsh|               65|          18026.01|                  1|             9.15|Unit 9800 Box 287...|Zuniga, Clark and...|                  1|\n",
      "+-------+-------------+-----------------+------------------+-------------------+-----------------+--------------------+--------------------+-------------------+\n",
      "\n"
     ]
    }
   ],
   "source": [
    "df.describe().show()"
   ]
  },
  {
   "cell_type": "code",
   "execution_count": 34,
   "metadata": {},
   "outputs": [
    {
     "name": "stdout",
     "output_type": "stream",
     "text": [
      "+-------+-------------+-----------------+------------------+\n",
      "|summary|        Names|              Age|    Total_Purchase|\n",
      "+-------+-------------+-----------------+------------------+\n",
      "|  count|          900|              898|               899|\n",
      "|   mean|         null|41.81069042316258|10064.888242491663|\n",
      "| stddev|         null| 6.13303075073418| 2409.188637458988|\n",
      "|    min|   Aaron King|               22|             100.0|\n",
      "|    max|Zachary Walsh|               65|          18026.01|\n",
      "+-------+-------------+-----------------+------------------+\n",
      "\n"
     ]
    }
   ],
   "source": [
    "df.select('Names', 'Age', 'Total_Purchase').describe().show()"
   ]
  },
  {
   "cell_type": "markdown",
   "metadata": {},
   "source": [
    "### Check the shape or dimensions of data"
   ]
  },
  {
   "cell_type": "code",
   "execution_count": 37,
   "metadata": {},
   "outputs": [
    {
     "data": {
      "text/plain": [
       "(900, 9)"
      ]
     },
     "execution_count": 37,
     "metadata": {},
     "output_type": "execute_result"
    }
   ],
   "source": [
    "# number of rows\n",
    "df.count(), len(df.columns)"
   ]
  },
  {
   "cell_type": "code",
   "execution_count": 36,
   "metadata": {},
   "outputs": [
    {
     "data": {
      "text/plain": [
       "9"
      ]
     },
     "execution_count": 36,
     "metadata": {},
     "output_type": "execute_result"
    }
   ],
   "source": [
    "#number of cols\n",
    "len(df.columns)"
   ]
  },
  {
   "cell_type": "markdown",
   "metadata": {},
   "source": [
    "### Subset by row (filtering)"
   ]
  },
  {
   "cell_type": "code",
   "execution_count": 38,
   "metadata": {},
   "outputs": [
    {
     "data": {
      "text/plain": [
       "DataFrame[Names: string, Age: int, Total_Purchase: double, Account_Manager: int, Years: double, Onboard_date: timestamp, Location: string, Company: string, Churn: int]"
      ]
     },
     "execution_count": 38,
     "metadata": {},
     "output_type": "execute_result"
    }
   ],
   "source": [
    "df.filter(df['Age'] > 30)"
   ]
  },
  {
   "cell_type": "code",
   "execution_count": 39,
   "metadata": {},
   "outputs": [
    {
     "data": {
      "text/plain": [
       "868"
      ]
     },
     "execution_count": 39,
     "metadata": {},
     "output_type": "execute_result"
    }
   ],
   "source": [
    "df.filter(df['Age'] > 30).count()"
   ]
  },
  {
   "cell_type": "code",
   "execution_count": 40,
   "metadata": {},
   "outputs": [
    {
     "data": {
      "text/plain": [
       "['Names',\n",
       " 'Age',\n",
       " 'Total_Purchase',\n",
       " 'Account_Manager',\n",
       " 'Years',\n",
       " 'Onboard_date',\n",
       " 'Location',\n",
       " 'Company',\n",
       " 'Churn']"
      ]
     },
     "execution_count": 40,
     "metadata": {},
     "output_type": "execute_result"
    }
   ],
   "source": [
    "df.columns"
   ]
  },
  {
   "cell_type": "code",
   "execution_count": 43,
   "metadata": {},
   "outputs": [
    {
     "data": {
      "text/plain": [
       "143"
      ]
     },
     "execution_count": 43,
     "metadata": {},
     "output_type": "execute_result"
    }
   ],
   "source": [
    "# & = and, | = or\n",
    "\n",
    "df.filter((df['Age'] > 30) & (df['Churn'] == 1)).count()"
   ]
  },
  {
   "cell_type": "code",
   "execution_count": 44,
   "metadata": {},
   "outputs": [
    {
     "name": "stdout",
     "output_type": "stream",
     "text": [
      "+------------+----+--------------+---------------+-----+-------------------+--------------------+--------------------+-----+\n",
      "|       Names| Age|Total_Purchase|Account_Manager|Years|       Onboard_date|            Location|             Company|Churn|\n",
      "+------------+----+--------------+---------------+-----+-------------------+--------------------+--------------------+-----+\n",
      "| Eric Lozano|  38|      12884.75|              0| 6.67|2016-06-29 06:20:07|1331 Keith Court ...|Miller, Johnson a...|    1|\n",
      "| Eric Butler|null|      11331.58|           null| 5.23|2016-12-05 03:35:43|4846 Savannah Roa...|   Reynolds-Sheppard|    1|\n",
      "|Erica Flores|  38|       9624.18|              0| 5.53|2008-12-22 06:09:17|421 Kevin Shoal G...|           Carey Ltd|    1|\n",
      "| Eric Kelley|  43|      10271.19|              1| 5.31|2011-07-19 10:28:53|98472 Meghan Mall...|Santos, Hoffman a...|    1|\n",
      "|  Eric Smith|  37|      11416.56|              0| 6.06|2006-04-03 04:29:08|166 Julie Vista A...|       Thomas-Curtis|    0|\n",
      "| Eric Castro|  38|      10770.82|              0| 4.99|2016-06-19 01:23:45|80338 Scott Trail...|     Campbell-Willis|    0|\n",
      "| Eric Martin|  44|      14155.97|              1| 6.99|2006-05-31 09:24:41|162 Paul Freeway ...|        Warner-Welch|    0|\n",
      "|  Eric Terry|  42|      16371.42|              1| 3.84|2014-12-18 16:51:16|2384 Lucero Traff...|        White-Thomas|    0|\n",
      "+------------+----+--------------+---------------+-----+-------------------+--------------------+--------------------+-----+\n",
      "\n"
     ]
    }
   ],
   "source": [
    "df.filter(df['Names']. startswith('Eric')).show()"
   ]
  },
  {
   "cell_type": "code",
   "execution_count": 46,
   "metadata": {},
   "outputs": [
    {
     "ename": "TypeError",
     "evalue": "'Column' object is not callable",
     "output_type": "error",
     "traceback": [
      "\u001b[1;31m---------------------------------------------------------------------------\u001b[0m",
      "\u001b[1;31mTypeError\u001b[0m                                 Traceback (most recent call last)",
      "\u001b[1;32m<ipython-input-46-fe24da1f50b8>\u001b[0m in \u001b[0;36m<module>\u001b[1;34m\u001b[0m\n\u001b[1;32m----> 1\u001b[1;33m \u001b[0mdf\u001b[0m\u001b[1;33m.\u001b[0m\u001b[0mselect\u001b[0m\u001b[1;33m(\u001b[0m\u001b[1;34m'Names'\u001b[0m\u001b[1;33m,\u001b[0m \u001b[1;34m'Age'\u001b[0m\u001b[1;33m)\u001b[0m\u001b[1;33m.\u001b[0m\u001b[0mfilter\u001b[0m\u001b[1;33m(\u001b[0m\u001b[0mdf\u001b[0m\u001b[1;33m[\u001b[0m\u001b[1;34m'Names'\u001b[0m\u001b[1;33m]\u001b[0m\u001b[1;33m.\u001b[0m\u001b[0mcointains\u001b[0m\u001b[1;33m(\u001b[0m\u001b[1;34m'Eric'\u001b[0m\u001b[1;33m)\u001b[0m\u001b[1;33m)\u001b[0m\u001b[1;33m.\u001b[0m\u001b[0mshow\u001b[0m\u001b[1;33m(\u001b[0m\u001b[1;33m)\u001b[0m\u001b[1;33m\u001b[0m\u001b[1;33m\u001b[0m\u001b[0m\n\u001b[0m",
      "\u001b[1;31mTypeError\u001b[0m: 'Column' object is not callable"
     ]
    }
   ],
   "source": [
    "df.select('Names', 'Age').filter(df['Names'].cointains('Eric')).show()"
   ]
  },
  {
   "cell_type": "code",
   "execution_count": 48,
   "metadata": {},
   "outputs": [
    {
     "name": "stdout",
     "output_type": "stream",
     "text": [
      "+-------------+----+\n",
      "|        Names| Age|\n",
      "+-------------+----+\n",
      "|  Eric Butler|null|\n",
      "|Doris Wilkins|null|\n",
      "+-------------+----+\n",
      "\n"
     ]
    }
   ],
   "source": [
    "df.select('Names', 'Age').filter(df['Age'].isNull()).show()"
   ]
  },
  {
   "cell_type": "code",
   "execution_count": 76,
   "metadata": {},
   "outputs": [],
   "source": [
    "df = df.dropna()"
   ]
  },
  {
   "cell_type": "code",
   "execution_count": 77,
   "metadata": {},
   "outputs": [
    {
     "data": {
      "text/plain": [
       "896"
      ]
     },
     "execution_count": 77,
     "metadata": {},
     "output_type": "execute_result"
    }
   ],
   "source": [
    "df.count()"
   ]
  },
  {
   "cell_type": "code",
   "execution_count": null,
   "metadata": {
    "collapsed": true
   },
   "outputs": [],
   "source": [
    "#drop\n",
    "# df.dropna(how = 'any', subset = ['Age', 'Names'])"
   ]
  },
  {
   "cell_type": "code",
   "execution_count": null,
   "metadata": {},
   "outputs": [],
   "source": [
    "# fill na's in  Age with 30\n",
    "# df.fillna(30, subset = ['Age'])"
   ]
  },
  {
   "cell_type": "code",
   "execution_count": 78,
   "metadata": {},
   "outputs": [
    {
     "name": "stdout",
     "output_type": "stream",
     "text": [
      "+-----+---+--------------+---------------+-----+------------+--------+-------+-----+\n",
      "|Names|Age|Total_Purchase|Account_Manager|Years|Onboard_date|Location|Company|Churn|\n",
      "+-----+---+--------------+---------------+-----+------------+--------+-------+-----+\n",
      "+-----+---+--------------+---------------+-----+------------+--------+-------+-----+\n",
      "\n"
     ]
    }
   ],
   "source": [
    "df.filter(df['Onboard_date'].between('2013-08-30','2013-08-13')).show()"
   ]
  },
  {
   "cell_type": "code",
   "execution_count": 79,
   "metadata": {},
   "outputs": [
    {
     "name": "stdout",
     "output_type": "stream",
     "text": [
      "+-------------------+\n",
      "|       Onboard_date|\n",
      "+-------------------+\n",
      "|2013-08-30 07:00:40|\n",
      "|2013-08-13 00:38:46|\n",
      "+-------------------+\n",
      "only showing top 2 rows\n",
      "\n"
     ]
    }
   ],
   "source": [
    "df.select('Onboard_date').show(2)"
   ]
  },
  {
   "cell_type": "code",
   "execution_count": 80,
   "metadata": {},
   "outputs": [],
   "source": [
    "# filter using sql\n",
    "df.createOrReplaceTempView('churn_table')"
   ]
  },
  {
   "cell_type": "code",
   "execution_count": 81,
   "metadata": {},
   "outputs": [
    {
     "name": "stdout",
     "output_type": "stream",
     "text": [
      "+----------------+---+\n",
      "|           Names|Age|\n",
      "+----------------+---+\n",
      "|Cameron Williams| 42|\n",
      "|   Kevin Mueller| 41|\n",
      "+----------------+---+\n",
      "\n"
     ]
    }
   ],
   "source": [
    "spark.sql('SELECT Names, Age FROM churn_table LIMIT 2').show()"
   ]
  },
  {
   "cell_type": "markdown",
   "metadata": {},
   "source": [
    "### Group by"
   ]
  },
  {
   "cell_type": "code",
   "execution_count": 82,
   "metadata": {},
   "outputs": [
    {
     "name": "stdout",
     "output_type": "stream",
     "text": [
      "+-----+------------------+-------------------+--------------------+------------------+----------+\n",
      "|Churn|          avg(Age)|avg(Total_Purchase)|avg(Account_Manager)|        avg(Years)|avg(Churn)|\n",
      "+-----+------------------+-------------------+--------------------+------------------+----------+\n",
      "|    1|42.986301369863014| 10202.051575342472|  0.5547945205479452| 5.893698630136986|       1.0|\n",
      "|    0| 41.58133333333333| 10036.952853333332|  0.4653333333333333|5.1510666666666625|       0.0|\n",
      "+-----+------------------+-------------------+--------------------+------------------+----------+\n",
      "\n"
     ]
    }
   ],
   "source": [
    "df.groupBy('Churn').mean().show(4)"
   ]
  },
  {
   "cell_type": "code",
   "execution_count": 83,
   "metadata": {},
   "outputs": [
    {
     "data": {
      "text/html": [
       "<div>\n",
       "<style scoped>\n",
       "    .dataframe tbody tr th:only-of-type {\n",
       "        vertical-align: middle;\n",
       "    }\n",
       "\n",
       "    .dataframe tbody tr th {\n",
       "        vertical-align: top;\n",
       "    }\n",
       "\n",
       "    .dataframe thead th {\n",
       "        text-align: right;\n",
       "    }\n",
       "</style>\n",
       "<table border=\"1\" class=\"dataframe\">\n",
       "  <thead>\n",
       "    <tr style=\"text-align: right;\">\n",
       "      <th></th>\n",
       "      <th>Churn</th>\n",
       "      <th>avg(Age)</th>\n",
       "      <th>avg(Total_Purchase)</th>\n",
       "      <th>avg(Account_Manager)</th>\n",
       "      <th>avg(Years)</th>\n",
       "      <th>avg(Churn)</th>\n",
       "    </tr>\n",
       "  </thead>\n",
       "  <tbody>\n",
       "    <tr>\n",
       "      <th>0</th>\n",
       "      <td>1</td>\n",
       "      <td>42.986301</td>\n",
       "      <td>10202.051575</td>\n",
       "      <td>0.554795</td>\n",
       "      <td>5.893699</td>\n",
       "      <td>1.0</td>\n",
       "    </tr>\n",
       "    <tr>\n",
       "      <th>1</th>\n",
       "      <td>0</td>\n",
       "      <td>41.581333</td>\n",
       "      <td>10036.952853</td>\n",
       "      <td>0.465333</td>\n",
       "      <td>5.151067</td>\n",
       "      <td>0.0</td>\n",
       "    </tr>\n",
       "  </tbody>\n",
       "</table>\n",
       "</div>"
      ],
      "text/plain": [
       "   Churn   avg(Age)  avg(Total_Purchase)  avg(Account_Manager)  avg(Years)  \\\n",
       "0      1  42.986301         10202.051575              0.554795    5.893699   \n",
       "1      0  41.581333         10036.952853              0.465333    5.151067   \n",
       "\n",
       "   avg(Churn)  \n",
       "0         1.0  \n",
       "1         0.0  "
      ]
     },
     "execution_count": 83,
     "metadata": {},
     "output_type": "execute_result"
    }
   ],
   "source": [
    "df.groupBy('Churn').mean().toPandas()"
   ]
  },
  {
   "cell_type": "markdown",
   "metadata": {},
   "source": [
    "### Machine learning\n",
    "predict churn"
   ]
  },
  {
   "cell_type": "code",
   "execution_count": 84,
   "metadata": {},
   "outputs": [
    {
     "data": {
      "text/plain": [
       "['Names',\n",
       " 'Age',\n",
       " 'Total_Purchase',\n",
       " 'Account_Manager',\n",
       " 'Years',\n",
       " 'Onboard_date',\n",
       " 'Location',\n",
       " 'Company',\n",
       " 'Churn']"
      ]
     },
     "execution_count": 84,
     "metadata": {},
     "output_type": "execute_result"
    }
   ],
   "source": [
    "df.columns"
   ]
  },
  {
   "cell_type": "code",
   "execution_count": 85,
   "metadata": {},
   "outputs": [],
   "source": [
    "from pyspark.ml.feature import VectorAssembler"
   ]
  },
  {
   "cell_type": "code",
   "execution_count": 86,
   "metadata": {},
   "outputs": [
    {
     "data": {
      "text/plain": [
       "[('Names', 'string'),\n",
       " ('Age', 'int'),\n",
       " ('Total_Purchase', 'double'),\n",
       " ('Account_Manager', 'int'),\n",
       " ('Years', 'double'),\n",
       " ('Onboard_date', 'timestamp'),\n",
       " ('Location', 'string'),\n",
       " ('Company', 'string'),\n",
       " ('Churn', 'int')]"
      ]
     },
     "execution_count": 86,
     "metadata": {},
     "output_type": "execute_result"
    }
   ],
   "source": [
    "df.dtypes"
   ]
  },
  {
   "cell_type": "code",
   "execution_count": 87,
   "metadata": {},
   "outputs": [],
   "source": [
    "# avoiding dummy variables for now as onehotencoding in spark is more complicated. now using only numerical values\n",
    "\n",
    "input_columns = ['Age', 'Total_Purchase', 'Account_Manager', 'Years']"
   ]
  },
  {
   "cell_type": "code",
   "execution_count": 88,
   "metadata": {},
   "outputs": [
    {
     "data": {
      "text/plain": [
       "VectorAssembler_10eb497b39b9"
      ]
     },
     "execution_count": 88,
     "metadata": {},
     "output_type": "execute_result"
    }
   ],
   "source": [
    "assembler = VectorAssembler(inputCols = input_columns, outputCol = 'features') # outputcol maaking all inputs into one\n",
    "\n",
    "assembler"
   ]
  },
  {
   "cell_type": "code",
   "execution_count": 89,
   "metadata": {},
   "outputs": [
    {
     "data": {
      "text/plain": [
       "DataFrame[Names: string, Age: int, Total_Purchase: double, Account_Manager: int, Years: double, Onboard_date: timestamp, Location: string, Company: string, Churn: int, features: vector]"
      ]
     },
     "execution_count": 89,
     "metadata": {},
     "output_type": "execute_result"
    }
   ],
   "source": [
    "output = assembler.transform(df)\n",
    "\n",
    "output # adding a new column features"
   ]
  },
  {
   "cell_type": "code",
   "execution_count": 90,
   "metadata": {},
   "outputs": [
    {
     "name": "stdout",
     "output_type": "stream",
     "text": [
      "+--------------------+\n",
      "|            features|\n",
      "+--------------------+\n",
      "|[42.0,11066.8,0.0...|\n",
      "|[41.0,11916.22,0....|\n",
      "+--------------------+\n",
      "only showing top 2 rows\n",
      "\n"
     ]
    }
   ],
   "source": [
    "output.select('features').show(2)"
   ]
  },
  {
   "cell_type": "markdown",
   "metadata": {},
   "source": [
    "UP: 1st person age = 42, total purchase 11k, etc.."
   ]
  },
  {
   "cell_type": "code",
   "execution_count": 91,
   "metadata": {},
   "outputs": [],
   "source": [
    "final_data = output.select('features', 'Churn')"
   ]
  },
  {
   "cell_type": "code",
   "execution_count": 92,
   "metadata": {},
   "outputs": [
    {
     "name": "stdout",
     "output_type": "stream",
     "text": [
      "+--------------------+-----+\n",
      "|            features|Churn|\n",
      "+--------------------+-----+\n",
      "|[42.0,11066.8,0.0...|    1|\n",
      "|[41.0,11916.22,0....|    1|\n",
      "|[38.0,12884.75,0....|    1|\n",
      "|[42.0,8010.76,0.0...|    1|\n",
      "+--------------------+-----+\n",
      "only showing top 4 rows\n",
      "\n"
     ]
    }
   ],
   "source": [
    "final_data.show(4)"
   ]
  },
  {
   "cell_type": "markdown",
   "metadata": {},
   "source": [
    "### Train/test split"
   ]
  },
  {
   "cell_type": "code",
   "execution_count": 93,
   "metadata": {},
   "outputs": [],
   "source": [
    "train, test = final_data.randomSplit([0.7, 0.3], seed = 123)"
   ]
  },
  {
   "cell_type": "code",
   "execution_count": 94,
   "metadata": {},
   "outputs": [
    {
     "data": {
      "text/plain": [
       "629"
      ]
     },
     "execution_count": 94,
     "metadata": {},
     "output_type": "execute_result"
    }
   ],
   "source": [
    "train.count()"
   ]
  },
  {
   "cell_type": "markdown",
   "metadata": {},
   "source": [
    "### Modelling - Decision Trees"
   ]
  },
  {
   "cell_type": "code",
   "execution_count": 115,
   "metadata": {},
   "outputs": [],
   "source": [
    "# import ML algorithms\n",
    "\n",
    "from pyspark.ml.classification import DecisionTreeClassifier\n",
    "from pyspark.ml.classification import RandomForestClassifier\n"
   ]
  },
  {
   "cell_type": "code",
   "execution_count": 96,
   "metadata": {},
   "outputs": [],
   "source": [
    "tree_model = DecisionTreeClassifier(featuresCol = 'features',\n",
    "                                   labelCol = 'Churn')"
   ]
  },
  {
   "cell_type": "code",
   "execution_count": 97,
   "metadata": {},
   "outputs": [],
   "source": [
    "tree_model_fitted = tree_model.fit(train)"
   ]
  },
  {
   "cell_type": "code",
   "execution_count": 99,
   "metadata": {},
   "outputs": [
    {
     "data": {
      "text/plain": [
       "SparseVector(4, {0: 0.1471, 1: 0.295, 2: 0.0262, 3: 0.5317})"
      ]
     },
     "execution_count": 99,
     "metadata": {},
     "output_type": "execute_result"
    }
   ],
   "source": [
    "tree_model_fitted.featureImportances"
   ]
  },
  {
   "cell_type": "code",
   "execution_count": 116,
   "metadata": {},
   "outputs": [],
   "source": [
    "# For random forest\n",
    "rf_model = RandomForestClassifier(featuresCol = 'features',\n",
    "                                 labelCol = 'Churn')"
   ]
  },
  {
   "cell_type": "code",
   "execution_count": 117,
   "metadata": {},
   "outputs": [],
   "source": [
    "# for random forest\n",
    "rf_model_fitted = rf_model.fit(train)"
   ]
  },
  {
   "cell_type": "code",
   "execution_count": 120,
   "metadata": {},
   "outputs": [
    {
     "data": {
      "text/plain": [
       "SparseVector(4, {0: 0.3368, 1: 0.22, 2: 0.0439, 3: 0.3993})"
      ]
     },
     "execution_count": 120,
     "metadata": {},
     "output_type": "execute_result"
    }
   ],
   "source": [
    "# for random forest, which features are most important according to RF\n",
    "\n",
    "rf_model_fitted.featureImportances"
   ]
  },
  {
   "cell_type": "code",
   "execution_count": null,
   "metadata": {},
   "outputs": [],
   "source": []
  },
  {
   "cell_type": "code",
   "execution_count": 100,
   "metadata": {},
   "outputs": [
    {
     "data": {
      "text/plain": [
       "DecisionTreeClassificationModel (uid=DecisionTreeClassifier_2d9710830552) of depth 5 with 27 nodes"
      ]
     },
     "execution_count": 100,
     "metadata": {},
     "output_type": "execute_result"
    }
   ],
   "source": [
    "tree_model_fitted"
   ]
  },
  {
   "cell_type": "markdown",
   "metadata": {},
   "source": [
    "### Evaluation"
   ]
  },
  {
   "cell_type": "code",
   "execution_count": 101,
   "metadata": {},
   "outputs": [],
   "source": [
    "from pyspark.ml.evaluation import MulticlassClassificationEvaluator"
   ]
  },
  {
   "cell_type": "code",
   "execution_count": 104,
   "metadata": {},
   "outputs": [
    {
     "name": "stdout",
     "output_type": "stream",
     "text": [
      "+--------------------+-----+-------------+--------------------+----------+\n",
      "|            features|Churn|rawPrediction|         probability|prediction|\n",
      "+--------------------+-----+-------------+--------------------+----------+\n",
      "|[25.0,9672.03,0.0...|    0| [134.0,27.0]|[0.83229813664596...|       0.0|\n",
      "|[26.0,8787.39,1.0...|    1| [134.0,27.0]|[0.83229813664596...|       0.0|\n",
      "|[26.0,8939.61,0.0...|    0|    [3.0,0.0]|           [1.0,0.0]|       0.0|\n",
      "|[28.0,11204.23,0....|    0|    [3.0,0.0]|           [1.0,0.0]|       0.0|\n",
      "|[29.0,5900.78,1.0...|    0| [134.0,27.0]|[0.83229813664596...|       0.0|\n",
      "|[29.0,11274.46,1....|    0|    [3.0,0.0]|           [1.0,0.0]|       0.0|\n",
      "|[29.0,12711.15,0....|    0|  [92.0,28.0]|[0.76666666666666...|       0.0|\n",
      "|[29.0,13240.01,1....|    0|   [67.0,6.0]|[0.91780821917808...|       0.0|\n",
      "|[30.0,10183.98,1....|    0|  [92.0,28.0]|[0.76666666666666...|       0.0|\n",
      "|[30.0,12788.37,0....|    0|    [3.0,0.0]|           [1.0,0.0]|       0.0|\n",
      "|[31.0,5304.6,0.0,...|    0| [134.0,27.0]|[0.83229813664596...|       0.0|\n",
      "|[31.0,8688.21,0.0...|    0|  [165.0,6.0]|[0.96491228070175...|       0.0|\n",
      "|[31.0,10058.87,1....|    0|  [92.0,28.0]|[0.76666666666666...|       0.0|\n",
      "|[31.0,11743.24,0....|    0|  [92.0,28.0]|[0.76666666666666...|       0.0|\n",
      "|[32.0,5756.12,0.0...|    0| [134.0,27.0]|[0.83229813664596...|       0.0|\n",
      "|[32.0,7896.65,0.0...|    0| [134.0,27.0]|[0.83229813664596...|       0.0|\n",
      "|[32.0,8617.98,1.0...|    1| [134.0,27.0]|[0.83229813664596...|       0.0|\n",
      "|[32.0,9472.72,1.0...|    0|  [165.0,6.0]|[0.96491228070175...|       0.0|\n",
      "|[32.0,9885.12,1.0...|    1| [134.0,27.0]|[0.83229813664596...|       0.0|\n",
      "|[32.0,10716.75,0....|    0|   [67.0,6.0]|[0.91780821917808...|       0.0|\n",
      "+--------------------+-----+-------------+--------------------+----------+\n",
      "only showing top 20 rows\n",
      "\n"
     ]
    }
   ],
   "source": [
    "# make predictions on test set\n",
    "predictions_tree = tree_model_fitted.transform(test)\n",
    "\n",
    "predictions_tree.show()"
   ]
  },
  {
   "cell_type": "code",
   "execution_count": 124,
   "metadata": {},
   "outputs": [],
   "source": [
    "churn_eval = MulticlassClassificationEvaluator(predictionCol='prediction', \n",
    "                                               labelCol = 'Churn',\n",
    "                                               metricName = 'accuracy')"
   ]
  },
  {
   "cell_type": "code",
   "execution_count": 125,
   "metadata": {},
   "outputs": [
    {
     "data": {
      "text/plain": [
       "0.8164794007490637"
      ]
     },
     "execution_count": 125,
     "metadata": {},
     "output_type": "execute_result"
    }
   ],
   "source": [
    "churn_eval.evaluate(predictions_tree)"
   ]
  },
  {
   "cell_type": "code",
   "execution_count": 126,
   "metadata": {},
   "outputs": [],
   "source": [
    "# for random forest\n",
    "\n",
    "rf_model = RandomForestClassifier(featuresCol = 'features',\n",
    "                                 labelCol = 'Churn')"
   ]
  },
  {
   "cell_type": "code",
   "execution_count": null,
   "metadata": {},
   "outputs": [],
   "source": [
    "churn_eval.evaluate(predictions_tree)"
   ]
  }
 ],
 "metadata": {
  "kernelspec": {
   "display_name": "Python 3",
   "language": "python",
   "name": "python3"
  },
  "language_info": {
   "codemirror_mode": {
    "name": "ipython",
    "version": 3
   },
   "file_extension": ".py",
   "mimetype": "text/x-python",
   "name": "python",
   "nbconvert_exporter": "python",
   "pygments_lexer": "ipython3",
   "version": "3.7.1"
  }
 },
 "nbformat": 4,
 "nbformat_minor": 2
}
